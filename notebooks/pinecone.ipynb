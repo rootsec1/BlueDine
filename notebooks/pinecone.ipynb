{
 "cells": [
  {
   "cell_type": "code",
   "execution_count": 1,
   "metadata": {},
   "outputs": [
    {
     "name": "stderr",
     "output_type": "stream",
     "text": [
      "/Users/ritutoshniwal/Code/HackDuke/env/lib/python3.9/site-packages/urllib3/__init__.py:35: NotOpenSSLWarning: urllib3 v2 only supports OpenSSL 1.1.1+, currently the 'ssl' module is compiled with 'LibreSSL 2.8.3'. See: https://github.com/urllib3/urllib3/issues/3020\n",
      "  warnings.warn(\n",
      "/Users/ritutoshniwal/Code/HackDuke/env/lib/python3.9/site-packages/tqdm/auto.py:21: TqdmWarning: IProgress not found. Please update jupyter and ipywidgets. See https://ipywidgets.readthedocs.io/en/stable/user_install.html\n",
      "  from .autonotebook import tqdm as notebook_tqdm\n"
     ]
    }
   ],
   "source": [
    "from sentence_transformers import SentenceTransformer\n",
    "import json\n",
    "from pinecone import Pinecone\n",
    "from constants import *"
   ]
  },
  {
   "cell_type": "code",
   "execution_count": 2,
   "metadata": {},
   "outputs": [],
   "source": [
    "import os\n",
    "\n",
    "GEMINI_API_KEY = os.getenv(\"GEMINI_API_KEY\")\n",
    "\n",
    "PINECONE_API_KEY = os.getenv(\"PINECONE_API_KEY\")\n",
    "ENCODE_MODEL_NAME = \"sentence-transformers/all-mpnet-base-v2\""
   ]
  },
  {
   "cell_type": "code",
   "execution_count": 3,
   "metadata": {},
   "outputs": [],
   "source": [
    "def get_transform(json_file):\n",
    "    with open(json_file) as f:\n",
    "        data = json.load(f)\n",
    "    id_list = []\n",
    "    summary_list = []\n",
    "    metadata_list = []\n",
    "    for cafe in data:\n",
    "        summary_list.append(cafe['summary'])\n",
    "        summary = cafe.pop(\"summary\")\n",
    "        hash_id = hash(summary)\n",
    "        id_list.append(hash_id)\n",
    "        metadata_list.append(cafe)\n",
    "    return summary_list, metadata_list, id_list"
   ]
  },
  {
   "cell_type": "code",
   "execution_count": 4,
   "metadata": {},
   "outputs": [],
   "source": [
    "def SentenceTransformer_model(summary_list):\n",
    "    model = SentenceTransformer(ENCODE_MODEL_NAME)\n",
    "    embeddings = model.encode(summary_list)\n",
    "    embeddings = embeddings.tolist()\n",
    "    return embeddings"
   ]
  },
  {
   "cell_type": "code",
   "execution_count": 5,
   "metadata": {},
   "outputs": [],
   "source": [
    "def convert_to_vector(id_list: list[str], embeddings, metadata_list):\n",
    "    vector_list = []\n",
    "    for doc_id, embedding, metadata in zip(id_list, embeddings, metadata_list):\n",
    "        vector_dict = {\n",
    "            \"id\": str(doc_id),\n",
    "            \"values\": embedding,\n",
    "            \"metadata\": metadata\n",
    "        }\n",
    "        vector_list.append(vector_dict)\n",
    "    return vector_list"
   ]
  },
  {
   "cell_type": "code",
   "execution_count": 6,
   "metadata": {},
   "outputs": [],
   "source": [
    "def process_data(FILE_PATH):\n",
    "    summary_list, metadata_list, id_list = get_transform(FILE_PATH)\n",
    "    embeddings = SentenceTransformer_model(summary_list)\n",
    "    vector_list = convert_to_vector(id_list, embeddings, metadata_list)\n",
    "    pc = Pinecone(api_key=PINECONE_API_KEY)\n",
    "    index = pc.Index('items')\n",
    "    upsert_response = index.upsert(\n",
    "        vectors= vector_list\n",
    "    )"
   ]
  },
  {
   "cell_type": "code",
   "execution_count": 6,
   "metadata": {},
   "outputs": [],
   "source": [
    "process_data('summaries/cafe_summary.json')"
   ]
  },
  {
   "cell_type": "code",
   "execution_count": 7,
   "metadata": {},
   "outputs": [],
   "source": [
    "process_data('summaries/tandoor_summary.json')"
   ]
  },
  {
   "cell_type": "code",
   "execution_count": 11,
   "metadata": {},
   "outputs": [],
   "source": [
    "process_data('summaries/ginger_and_soy.json')"
   ]
  },
  {
   "cell_type": "code",
   "execution_count": 9,
   "metadata": {},
   "outputs": [],
   "source": [
    "process_data('summaries/il_forno_summary.json')"
   ]
  },
  {
   "cell_type": "code",
   "execution_count": 10,
   "metadata": {},
   "outputs": [],
   "source": [
    "process_data('summaries/panera_summary.json')"
   ]
  },
  {
   "cell_type": "code",
   "execution_count": 7,
   "metadata": {},
   "outputs": [],
   "source": [
    "process_data('summaries/devil_summary.json')"
   ]
  },
  {
   "cell_type": "code",
   "execution_count": 8,
   "metadata": {},
   "outputs": [],
   "source": [
    "process_data('summaries/JB_summary.json')"
   ]
  },
  {
   "cell_type": "code",
   "execution_count": 10,
   "metadata": {},
   "outputs": [],
   "source": [
    "process_data('summaries/sazon_summary.json')"
   ]
  }
 ],
 "metadata": {
  "kernelspec": {
   "display_name": "env",
   "language": "python",
   "name": "python3"
  },
  "language_info": {
   "codemirror_mode": {
    "name": "ipython",
    "version": 3
   },
   "file_extension": ".py",
   "mimetype": "text/x-python",
   "name": "python",
   "nbconvert_exporter": "python",
   "pygments_lexer": "ipython3",
   "version": "3.9.6"
  }
 },
 "nbformat": 4,
 "nbformat_minor": 2
}
