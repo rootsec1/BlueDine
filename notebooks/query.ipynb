{
 "cells": [
  {
   "cell_type": "code",
   "execution_count": 89,
   "metadata": {},
   "outputs": [],
   "source": [
    "import torch\n",
    "import re\n",
    "import nltk\n",
    "import json\n",
    "import google.generativeai as genai\n",
    "import os\n",
    "\n",
    "from nltk.corpus import stopwords\n",
    "from nltk.tokenize import word_tokenize\n",
    "from sentence_transformers import SentenceTransformer\n",
    "\n",
    "# Local\n",
    "from constants import *\n",
    "from utils import *"
   ]
  },
  {
   "cell_type": "code",
   "execution_count": 90,
   "metadata": {},
   "outputs": [],
   "source": [
    "import os\n",
    "\n",
    "GEMINI_API_KEY = os.getenv(\"GEMINI_API_KEY\")\n",
    "\n",
    "PINECONE_API_KEY = \"6023ab23-f5bb-4db8-b6ed-2599c49aa064\"\n",
    "ENCODE_MODEL_NAME = \"sentence-transformers/all-mpnet-base-v2\"\n",
    "\n",
    "LLM_SYSTEM_MESSAGE = \"\"\"\n",
    "You are a food expert and a tour guide who knows all the restaurant and their food menu inside Brodhead center at Duke University, Durham, NC.\n",
    "You are responsible for providing information about the restaurants and their food menu to the customers.\n",
    "You are also responsible for providing the best restaurant and food menu recommendations to the customers based on their preferences.\n",
    "You are using the context I provide as a RAG prompt to generate the response.\n",
    "\"\"\"\n",
    "\n",
    "USER_SYSTEM_MESSAGE = \"\"\"\n",
    "Use the following JSON list as context.\n",
    "Output in the same JSON list format as provided in the 'Database' section of the prompt.\n",
    "Pay attention to the name, type, category and price of the dish in the menu.\n",
    "Give me top 10 results for the given query in order of relevance based on what the user might be searching for.:\n",
    "Query: {}\n",
    "Database:\n",
    "{}\n",
    "\"\"\""
   ]
  },
  {
   "cell_type": "code",
   "execution_count": 91,
   "metadata": {},
   "outputs": [],
   "source": [
    "from pinecone import Pinecone\n",
    "\n",
    "def Pinecone_index():\n",
    "    pc = Pinecone(api_key=PINECONE_API_KEY)\n",
    "    index = pc.Index('items')\n",
    "    return index"
   ]
  },
  {
   "cell_type": "code",
   "execution_count": 92,
   "metadata": {},
   "outputs": [
    {
     "name": "stderr",
     "output_type": "stream",
     "text": [
      "[nltk_data] Downloading package punkt to\n",
      "[nltk_data]     /Users/ritutoshniwal/nltk_data...\n",
      "[nltk_data]   Package punkt is already up-to-date!\n",
      "[nltk_data] Downloading package stopwords to\n",
      "[nltk_data]     /Users/ritutoshniwal/nltk_data...\n",
      "[nltk_data]   Package stopwords is already up-to-date!\n"
     ]
    },
    {
     "data": {
      "text/plain": [
       "True"
      ]
     },
     "execution_count": 92,
     "metadata": {},
     "output_type": "execute_result"
    }
   ],
   "source": [
    "nltk.download('punkt')\n",
    "nltk.download('stopwords')"
   ]
  },
  {
   "cell_type": "code",
   "execution_count": 93,
   "metadata": {},
   "outputs": [],
   "source": [
    "def preprocess_text(text):\n",
    "    # Convert text to lowercase\n",
    "    text = text.lower()\n",
    "    \n",
    "    # Remove extra spaces\n",
    "    text = re.sub(r'\\s+', ' ', text).strip()\n",
    "    \n",
    "    # Tokenize text\n",
    "    tokens = word_tokenize(text)\n",
    "    \n",
    "    # Remove stopwords\n",
    "    stop_words = set(stopwords.words('english'))\n",
    "    filtered_tokens = [token for token in tokens if token not in stop_words]\n",
    "\n",
    "    #remove all special characters except spaces\n",
    "    filtered_tokens = [re.sub(r'[^a-zA-Z0-9\\s]', '', token) for token in filtered_tokens]\n",
    "    \n",
    "    # Re-join tokens into a string\n",
    "    processed_text = ' '.join(filtered_tokens)\n",
    "    \n",
    "    return processed_text"
   ]
  },
  {
   "cell_type": "code",
   "execution_count": 94,
   "metadata": {},
   "outputs": [],
   "source": [
    "def encode_model(query):\n",
    "    \"\"\"\n",
    "    This function takes a query and returns the embeddings of the query\n",
    "    \"\"\"\n",
    "    device = 'cuda' if torch.cuda.is_available() else 'cpu'\n",
    "    model = SentenceTransformer(ENCODE_MODEL_NAME, device=device)\n",
    "    embeddings = model.encode(query, convert_to_tensor=True)\n",
    "    embeddings = embeddings.tolist()\n",
    "    return embeddings"
   ]
  },
  {
   "cell_type": "code",
   "execution_count": 95,
   "metadata": {},
   "outputs": [],
   "source": [
    "def metadata_from_pinecone(embeddings):\n",
    "    \"\"\"\n",
    "    This function takes a query and returns the metadata of the query\n",
    "    \"\"\"\n",
    "    index = Pinecone_index()\n",
    "    response = index.query(vector=embeddings, top_k=50, include_metadata=True)\n",
    "    matches_list = response.get('matches', [])\n",
    "    metadata_list = []\n",
    "    for match in matches_list:\n",
    "        metadata = match.get('metadata', {})\n",
    "        metadata_list.append(metadata)\n",
    "    return metadata_list"
   ]
  },
  {
   "cell_type": "code",
   "execution_count": 96,
   "metadata": {},
   "outputs": [],
   "source": [
    "def __get_gemini_client__() -> genai.GenerativeModel:\n",
    "    genai.configure(api_key=os.getenv(\"GEMINI_API_KEY\"))\n",
    "    gemini_model = genai.GenerativeModel(\"gemini-pro\")\n",
    "    return gemini_model"
   ]
  },
  {
   "cell_type": "code",
   "execution_count": 97,
   "metadata": {},
   "outputs": [],
   "source": [
    "def get_LLM_Response(query, metadata, gemini_model: genai.GenerativeModel) -> str:\n",
    "    metadata = json.dumps(metadata)\n",
    "    prompt = f\"\"\"\n",
    "    {LLM_SYSTEM_MESSAGE}\n",
    "\n",
    "    {USER_SYSTEM_MESSAGE.format(query, metadata)}\n",
    "    \"\"\"\n",
    "    response = gemini_model.generate_content(prompt)\n",
    "    return response.text"
   ]
  },
  {
   "cell_type": "code",
   "execution_count": 98,
   "metadata": {},
   "outputs": [],
   "source": [
    "def main ():\n",
    "    query = input(\"Enter your query: \")\n",
    "    query = preprocess_text(query)\n",
    "    embeddings = encode_model(query)\n",
    "    metadata = metadata_from_pinecone(embeddings)\n",
    "    gemini_model = __get_gemini_client__()\n",
    "    response = get_LLM_Response(query, metadata, gemini_model)\n",
    "    print(response)"
   ]
  },
  {
   "cell_type": "code",
   "execution_count": 99,
   "metadata": {},
   "outputs": [
    {
     "name": "stdout",
     "output_type": "stream",
     "text": [
      "\n",
      "    \n",
      "You are a food expert and a tour guide who knows all the restaurant and their food menu inside Brodhead center at Duke University, Durham, NC.\n",
      "You are responsible for providing information about the restaurants and their food menu to the customers.\n",
      "You are also responsible for providing the best restaurant and food menu recommendations to the customers based on their preferences.\n",
      "You are using the context I provide as a RAG prompt to generate the response.\n",
      "\n",
      "\n",
      "    \n",
      "Use the following JSON list as context.\n",
      "Output in the same JSON list format as provided in the 'Database' section of the prompt.\n",
      "Pay attention to the name, type, category and price of the dish in the menu.\n",
      "Give me top 10 results for the given query in order of relevance based on what the user might be searching for.:\n",
      "Query: food 50 calories\n",
      "Database:\n",
      "[{\"calories\": 350.0, \"category\": \"Snack Boxes and Sides\", \"description\": \"A protein-packed snack box with turkey and cheese.\", \"ingredients\": [\"Turkey breast\", \"Cheddar cheese\", \"Crackers\", \"Grapes\"], \"name\": \"Turkey Snack Box\", \"price\": \"5.99\", \"restaurant\": \"CaFe\", \"timeclose\": \"10pm\", \"timeopen\": \"7:30am\", \"type\": \"Poultry\"}, {\"calories\": 700.0, \"category\": \"Combo\", \"description\": \"Chana Masala with Rice & Naan\", \"ingredients\": [\"Chickpeas\", \"Tomato sauce\", \"Onions\", \"Garlic\", \"Ginger\", \"Spices\", \"Basmati rice\", \"Naan\"], \"name\": \"DAILY DEVIL MEAL\", \"price\": \"5.00\", \"restaurant\": \"Tandoor\", \"timeclose\": \"9pm\", \"timeopen\": \"11am\", \"type\": \"Vegan\"}, {\"calories\": 400.0, \"category\": \"Snack Boxes and Sides\", \"description\": \"Bowtie pasta salad with feta cheese and fresh cilantro.\", \"ingredients\": [\"Bowtie pasta\", \"Feta cheese\", \"Cilantro\", \"Olive oil\", \"Lemon juice\"], \"name\": \"Feta Cilantro Bowtie Salad\", \"price\": \"3.49\", \"restaurant\": \"CaFe\", \"timeclose\": \"10pm\", \"timeopen\": \"7:30am\", \"type\": \"Salad\"}, {\"calories\": 95.0, \"category\": \"Sides\", \"description\": \"A fresh and crisp apple, a perfect healthy snack.\", \"ingredients\": [\"Apple\"], \"name\": \"Apple\", \"price\": \"1.29\", \"restaurant\": \"Panera\", \"timeclose\": \"9pm\", \"timeopen\": \"7am\", \"type\": \"Vegan\"}, {\"calories\": 400.0, \"category\": \"Pastries All Day\", \"description\": \"Vanilla cupcake with cookies and cream frosting and cookie crumble.\", \"ingredients\": [\"Flour\", \"Sugar\", \"Butter\", \"Eggs\", \"Cookies and cream frosting\", \"Cookie crumble\"], \"name\": \"Frosted Cookies and Cream Cupcake\", \"price\": \"3.49\", \"restaurant\": \"CaFe\", \"timeclose\": \"10pm\", \"timeopen\": \"7:30am\", \"type\": \"Vegetarian\"}, {\"calories\": 700.0, \"category\": \"Salads and Bowls\", \"description\": \"Grilled salmon over a bed of rice with fresh vegetables.\", \"ingredients\": [\"Grilled salmon\", \"Brown rice\", \"Avocado\", \"Edamame\", \"Carrots\", \"Sesame seeds\"], \"name\": \"Salmon Bowl\", \"price\": \"11.99\", \"restaurant\": \"CaFe\", \"timeclose\": \"10pm\", \"timeopen\": \"7:30am\", \"type\": \"Seafood\"}, {\"calories\": 260.0, \"category\": \"Desserts\", \"description\": \"A traditional Indian rice pudding flavored with cardamom, raisins, and nuts.\", \"ingredients\": [\"Rice\", \"Milk\", \"Sugar\", \"Cardamom\", \"Raisins\", \"Almonds\"], \"name\": \"Kheer\", \"price\": \"4.25\", \"restaurant\": \"Tandoor\", \"timeclose\": \"9pm\", \"timeopen\": \"11am\", \"type\": \"Vegetarian\"}, {\"calories\": 260.0, \"category\": \"Bread\", \"description\": \"Traditional Indian leavened bread baked in a tandoor oven.\", \"ingredients\": [\"Flour\", \"Yeast\", \"Water\", \"Salt\"], \"name\": \"Naan\", \"price\": \"2.49\", \"restaurant\": \"Tandoor\", \"timeclose\": \"9pm\", \"timeopen\": \"11am\", \"type\": \"Vegan\"}, {\"calories\": 250.0, \"category\": \"Appetizers\", \"description\": \"Deep-fried pastry filled with spiced potatoes and peas.\", \"ingredients\": [\"Potatoes\", \"Green peas\", \"Flour\", \"Spices\"], \"name\": \"Vegetable Samosa\", \"price\": \"4.99\", \"restaurant\": \"Tandoor\", \"timeclose\": \"9pm\", \"timeopen\": \"11am\", \"type\": \"Vegan\"}, {\"calories\": 550.0, \"category\": \"Sandwiches, Wraps and More\", \"description\": \"Middle Eastern chickpea patties served in a warm pita with tahini sauce.\", \"ingredients\": [\"Falafel\", \"Pita bread\", \"Tahini sauce\", \"Lettuce\", \"Tomato\", \"Cucumber\"], \"name\": \"Falafel on Pita\", \"price\": \"6.99\", \"restaurant\": \"CaFe\", \"timeclose\": \"10pm\", \"timeopen\": \"7:30am\", \"type\": \"Vegetarian\"}, {\"calories\": 120.0, \"category\": \"Cold Breakfast\", \"description\": \"A refreshing mix of seasonal fruits.\", \"ingredients\": [\"Strawberries\", \"Blueberries\", \"Apples\", \"Grapes\"], \"name\": \"Seasonal Fruit Cup\", \"price\": \"4.59\", \"restaurant\": \"Panera\", \"timeclose\": \"9pm\", \"timeopen\": \"7am\", \"type\": \"Vegan\"}, {\"calories\": 320.0, \"category\": \"Desserts\", \"description\": \"Soft, spongy, and sweet milk-solid balls soaked in rose-scented syrup.\", \"ingredients\": [\"Milk solids\", \"Flour\", \"Sugar\", \"Rose water\", \"Cardamom\"], \"name\": \"Gulab Jamun\", \"price\": \"4.25\", \"restaurant\": \"Tandoor\", \"timeclose\": \"9pm\", \"timeopen\": \"11am\", \"type\": \"Vegetarian\"}, {\"calories\": 350.0, \"category\": \"Snack Boxes and Sides\", \"description\": \"Sweet apples and fluffy couscous with Moroccan spices.\", \"ingredients\": [\"Couscous\", \"Apples\", \"Cinnamon\", \"Sugar\", \"Almonds\"], \"name\": \"Apple Moroccan Couscous\", \"price\": \"2.99\", \"restaurant\": \"CaFe\", \"timeclose\": \"10pm\", \"timeopen\": \"7:30am\", \"type\": \"Side\"}, {\"calories\": 370.0, \"category\": \"Pastries All Day\", \"description\": \"Moist chocolate cupcake topped with creamy chocolate frosting.\", \"ingredients\": [\"Chocolate\", \"Sugar\", \"Flour\", \"Eggs\", \"Butter\", \"Chocolate frosting\"], \"name\": \"Frosted Chocolate Cupcake\", \"price\": \"2.99\", \"restaurant\": \"CaFe\", \"timeclose\": \"10pm\", \"timeopen\": \"7:30am\", \"type\": \"Vegetarian\"}, {\"calories\": 850.0, \"category\": \"Combo\", \"description\": \"Three Vegetable Servings, Rice, & Two Pieces of Naan\", \"ingredients\": [\"Palak paneer\", \"Vegetable korma\", \"Chana masala\", \"Basmati rice\", \"Naan\"], \"name\": \"VEGETARIAN COMBO\", \"price\": \"10.89\", \"restaurant\": \"Tandoor\", \"timeclose\": \"9pm\", \"timeopen\": \"11am\", \"type\": \"Vegetarian\"}, {\"calories\": 550.0, \"category\": \"Salads and Bowls\", \"description\": \"Fresh garden salad topped with a fillet of salmon.\", \"ingredients\": [\"Salmon fillet\", \"Mixed greens\", \"Tomatoes\", \"Cucumbers\", \"Red onions\", \"Balsamic vinaigrette\"], \"name\": \"Salmon Garden Salad\", \"price\": \"10.99\", \"restaurant\": \"CaFe\", \"timeclose\": \"10pm\", \"timeopen\": \"7:30am\", \"type\": \"Seafood\"}, {\"calories\": 400.0, \"category\": \"Snack Boxes and Sides\", \"description\": \"A selection of Mediterranean favorites for a savory snack.\", \"ingredients\": [\"Hummus\", \"Feta cheese\", \"Olives\", \"Cucumbers\", \"Pita chips\"], \"name\": \"Mediterranean Snack Box\", \"price\": \"5.99\", \"restaurant\": \"CaFe\", \"timeclose\": \"10pm\", \"timeopen\": \"7:30am\", \"type\": \"Vegetarian\"}, {\"calories\": 500.0, \"category\": \"Pastries All Day\", \"description\": \"Rich chocolate brownie with a swirl of cheesecake.\", \"ingredients\": [\"Chocolate\", \"Cream cheese\", \"Sugar\", \"Flour\", \"Eggs\"], \"name\": \"Cheesecake Brownie\", \"price\": \"3.99\", \"restaurant\": \"CaFe\", \"timeclose\": \"10pm\", \"timeopen\": \"7:30am\", \"type\": \"Vegetarian\"}, {\"calories\": 120.0, \"category\": \"Sides\", \"description\": \"A delightful mix of the season's best fruits, freshly prepared.\", \"ingredients\": [\"Melon\", \"Grapes\", \"Pineapple\", \"Berries\"], \"name\": \"Seasonal Fruit Cup\", \"price\": \"3.99\", \"restaurant\": \"Panera\", \"timeclose\": \"9pm\", \"timeopen\": \"7am\", \"type\": \"Vegan\"}, {\"calories\": 750.0, \"category\": \"Heat and Eat\", \"description\": \"Layers of pasta with beef ragu and creamy b\\u00e9chamel sauce.\", \"ingredients\": [\"Pasta\", \"Ground beef\", \"Tomato sauce\", \"Bechamel sauce\", \"Parmesan cheese\"], \"name\": \"Classic Lasagna\", \"price\": \"6.99\", \"restaurant\": \"CaFe\", \"timeclose\": \"10pm\", \"timeopen\": \"7:30am\", \"type\": \"Entree\"}, {\"calories\": 290.0, \"category\": \"Bread\", \"description\": \"Leavened bread topped with garlic and cilantro, baked in a tandoor.\", \"ingredients\": [\"Flour\", \"Garlic\", \"Cilantro\", \"Yeast\", \"Water\"], \"name\": \"Garlic Naan\", \"price\": \"3.79\", \"restaurant\": \"Tandoor\", \"timeclose\": \"9pm\", \"timeopen\": \"11am\", \"type\": \"Vegan\"}, {\"calories\": 480.0, \"category\": \"Pastries All Day\", \"description\": \"Dense and fudgy brownie with a crackly top.\", \"ingredients\": [\"Chocolate\", \"Sugar\", \"Butter\", \"Flour\", \"Eggs\"], \"name\": \"Fudge Brownie\", \"price\": \"2.49\", \"restaurant\": \"CaFe\", \"timeclose\": \"10pm\", \"timeopen\": \"7:30am\", \"type\": \"Vegetarian\"}, {\"calories\": 900.0, \"category\": \"Combo\", \"description\": \"Two Proteins, One Vegetable, Rice, & Two Pieces of Naan\", \"ingredients\": [\"Chicken curry\", \"Lamb curry\", \"Mixed vegetables\", \"Basmati rice\", \"Naan\"], \"name\": \"NON-VEGETARIAN COMBO\", \"price\": \"11.89\", \"restaurant\": \"Tandoor\", \"timeclose\": \"9pm\", \"timeopen\": \"11am\", \"type\": \"Non-Vegetarian\"}, {\"calories\": 350.0, \"category\": \"Main Course\", \"description\": \"Savory Indian crepe filled with seasoned vegetables.\", \"ingredients\": [\"Rice\", \"Urad dal\", \"Mixed vegetables\", \"Spices\"], \"name\": \"Vegetable Dosai\", \"price\": \"10.29\", \"restaurant\": \"Tandoor\", \"timeclose\": \"9pm\", \"timeopen\": \"11am\", \"type\": \"Vegetarian\"}, {\"calories\": 310.0, \"category\": \"Sweets\", \"description\": \"A soft and chewy mini-muffin filled with chocolate chips.\", \"ingredients\": [\"Flour\", \"Chocolate chips\", \"Butter\", \"Sugar\", \"Eggs\"], \"name\": \"Chocolate Chip Muffie\", \"price\": \"2.19\", \"restaurant\": \"Panera\", \"timeclose\": \"9pm\", \"timeopen\": \"7am\", \"type\": \"Vegetarian\"}, {\"calories\": 280.0, \"category\": \"Pastries All Day\", \"description\": \"Classic cookie loaded with chocolate chips and a hint of sea salt.\", \"ingredients\": [\"Flour\", \"Brown sugar\", \"Chocolate chips\", \"Butter\", \"Eggs\", \"Sea salt\"], \"name\": \"Chocolate Chip Cookie\", \"price\": \"1.99\", \"restaurant\": \"CaFe\", \"timeclose\": \"10pm\", \"timeopen\": \"7:30am\", \"type\": \"Vegetarian\"}, {\"calories\": 500.0, \"category\": \"Crepe\", \"description\": \"Sweet apples and creamy brie cheese nestled in a delicate crepe.\", \"ingredients\": [\"Crepe\", \"Apples\", \"Brie cheese\", \"Cinnamon\"], \"name\": \"Apple and Brie Crepe\", \"price\": \"8.99\", \"restaurant\": \"CaFe\", \"timeclose\": \"10pm\", \"timeopen\": \"7:30am\", \"type\": \"Vegetarian\"}, {\"calories\": 450.0, \"category\": \"Snack Boxes and Sides\", \"description\": \"A convenient snack box with homemade chicken salad.\", \"ingredients\": [\"Chicken breast\", \"Mayonnaise\", \"Celery\", \"Mustard\", \"Lettuce\"], \"name\": \"Chicken Salad Snack Box\", \"price\": \"4.99\", \"restaurant\": \"CaFe\", \"timeclose\": \"10pm\", \"timeopen\": \"7:30am\", \"type\": \"Snack\"}, {\"calories\": 550.0, \"category\": \"Heat and Eat\", \"description\": \"Rich and creamy macaroni and cheese with a gourmet twist.\", \"ingredients\": [\"Macaroni\", \"Cheddar cheese\", \"Milk\", \"Butter\", \"Bread crumbs\"], \"name\": \"Gourmet Mac N Cheese\", \"price\": \"5.99\", \"restaurant\": \"CaFe\", \"timeclose\": \"10pm\", \"timeopen\": \"7:30am\", \"type\": \"Entree\"}, {\"calories\": 320.0, \"category\": \"Bagels\", \"description\": \"A deliciously sweet bagel filled with chocolate chips, perfect for a treat.\", \"ingredients\": [\"Wheat flour\", \"Chocolate chips\", \"Brown sugar\", \"Yeast\"], \"name\": \"Chocolate Chip Bagel\", \"price\": \"2.49\", \"restaurant\": \"Panera\", \"timeclose\": \"9pm\", \"timeopen\": \"7am\", \"type\": \"Vegetarian\"}, {\"calories\": 650.0, \"category\": \"Poke Bowls\", \"ingredients\": [\"Salmon\", \"Rice\", \"Edamame\", \"Cucumber\", \"Avocado\", \"Sesame seeds\"], \"name\": \"Salmon Poke Bowl\", \"price\": \"$10.50\", \"restaurant\": \"Ginger and Soy\", \"timeclose\": \"9pm\", \"timeopen\": \"11am\", \"type\": \"Pescatarian\"}, {\"calories\": 300.0, \"category\": \"Main Course\", \"description\": \"A simple, savory Indian crepe made from rice and lentil batter.\", \"ingredients\": [\"Rice\", \"Urad dal\", \"Water\", \"Salt\"], \"name\": \"Sada Dosai\", \"price\": \"8.59\", \"restaurant\": \"Tandoor\", \"timeclose\": \"9pm\", \"timeopen\": \"11am\", \"type\": \"Vegan\"}, {\"calories\": 270.0, \"category\": \"Bagels\", \"description\": \"A simple, soft, and chewy bagel, perfect for any spread.\", \"ingredients\": [\"Wheat flour\", \"Yeast\", \"Salt\", \"Water\"], \"name\": \"Plain Bagel\", \"price\": \"2.29\", \"restaurant\": \"Panera\", \"timeclose\": \"9pm\", \"timeopen\": \"7am\", \"type\": \"Vegan\"}, {\"calories\": 200.0, \"category\": \"Appetizers\", \"ingredients\": [\"Edamame\", \"Salt\"], \"name\": \"Edamame\", \"price\": \"$16\", \"restaurant\": \"Ginger and Soy\", \"timeclose\": \"9pm\", \"timeopen\": \"11am\", \"type\": \"Vegan\"}, {\"calories\": 550.0, \"category\": \"Sandwiches, Wraps and More\", \"description\": \"Homemade chicken salad served on a soft brioche bun.\", \"ingredients\": [\"Chicken salad\", \"Brioche bun\", \"Lettuce\", \"Tomato\"], \"name\": \"Chicken Salad Brioche\", \"price\": \"6.99\", \"restaurant\": \"CaFe\", \"timeclose\": \"10pm\", \"timeopen\": \"7:30am\", \"type\": \"Poultry\"}, {\"calories\": 200.0, \"category\": \"Snack Boxes and Sides\", \"description\": \"Crispy and lightly salted pita chips perfect for snacking.\", \"ingredients\": [\"Pita bread\", \"Olive oil\", \"Sea salt\"], \"name\": \"Pita Crisps\", \"price\": \"1.99\", \"restaurant\": \"CaFe\", \"timeclose\": \"10pm\", \"timeopen\": \"7:30am\", \"type\": \"Vegan\"}, {\"calories\": 650.0, \"category\": \"Pasta Station\", \"description\": \"A medley of fresh vegetables tossed with pasta in a light and herby sauce, perfect for a healthy meal.\", \"ingredients\": [\"Mixed vegetables\", \"Pasta\", \"Herb sauce\"], \"name\": \"Garden Veggie Pasta\", \"price\": \"10.99\", \"restaurant\": \"Il Forno\", \"timeclose\": \"9pm\", \"timeopen\": \"11am\", \"type\": \"Vegetarian\"}, {\"calories\": 600.0, \"category\": \"Paninis\", \"description\": \"Grilled chicken with parmesan cheese on toasted bread.\", \"ingredients\": [\"Chicken breast\", \"Parmesan cheese\", \"Marinara sauce\", \"Basil\", \"Panini bread\"], \"name\": \"Chicken Parmesan Panini\", \"price\": \"7.99\", \"restaurant\": \"CaFe\", \"timeclose\": \"10pm\", \"timeopen\": \"7:30am\", \"type\": \"Poultry\"}, {\"calories\": 100.0, \"category\": \"Snack Boxes and Sides\", \"description\": \"A mix of seasonal fresh fruits for a refreshing snack.\", \"ingredients\": [\"Melon\", \"Pineapple\", \"Grapes\", \"Berries\"], \"name\": \"Fruit Cup\", \"price\": \"2.99\", \"restaurant\": \"CaFe\", \"timeclose\": \"10pm\", \"timeopen\": \"7:30am\", \"type\": \"Vegan\"}, {\"calories\": 380.0, \"category\": \"Pastries All Day\", \"description\": \"Light and fluffy cake with fresh strawberries and whipped cream.\", \"ingredients\": [\"Flour\", \"Sugar\", \"Eggs\", \"Strawberries\", \"Whipped cream\"], \"name\": \"Strawberry Shortcake Cake\", \"price\": \"4.99\", \"restaurant\": \"CaFe\", \"timeclose\": \"10pm\", \"timeopen\": \"7:30am\", \"type\": \"Vegetarian\"}, {\"calories\": 250.0, \"category\": \"Snack Boxes and Sides\", \"description\": \"Creamy hummus served with soft pita bread for dipping.\", \"ingredients\": [\"Chickpeas\", \"Tahini\", \"Lemon juice\", \"Garlic\", \"Pita bread\"], \"name\": \"Hummus and Pita Cup\", \"price\": \"3.99\", \"restaurant\": \"CaFe\", \"timeclose\": \"10pm\", \"timeopen\": \"7:30am\", \"type\": \"Vegetarian\"}, {\"calories\": \"Minimal\", \"category\": \"Build Your Own Pizza (Toppings)\", \"description\": \"Sweet corn kernels add a pop of sweetness and texture to every bite.\", \"ingredients\": [\"Corn\"], \"name\": \"Corn\", \"price\": \"Additional $1.49\", \"restaurant\": \"Il Forno\", \"timeclose\": \"9pm\", \"timeopen\": \"11am\", \"type\": \"Vegan\"}, {\"calories\": 450.0, \"category\": \"Snack Boxes and Sides\", \"description\": \"Penne pasta tossed with vibrant pesto and fresh vegetables.\", \"ingredients\": [\"Penne pasta\", \"Pesto sauce\", \"Cherry tomatoes\", \"Parmesan cheese\"], \"name\": \"Penne Pesto Salad\", \"price\": \"4.99\", \"restaurant\": \"CaFe\", \"timeclose\": \"10pm\", \"timeopen\": \"7:30am\", \"type\": \"Vegetarian\"}, {\"calories\": 110.0, \"category\": \"Pastries All Day\", \"description\": \"Chewy oatmeal cookies with plump raisins and a hint of cinnamon.\", \"ingredients\": [\"Oats\", \"Raisins\", \"Flour\", \"Sugar\", \"Eggs\", \"Cinnamon\"], \"name\": \"Oatmeal Raisin Cookies\", \"price\": \"1.99\", \"restaurant\": \"CaFe\", \"timeclose\": \"10pm\", \"timeopen\": \"7:30am\", \"type\": \"Vegetarian\"}, {\"calories\": 550.0, \"category\": \"Crepe\", \"description\": \"A crepe filled with spinach, mushrooms, and feta cheese.\", \"ingredients\": [\"Crepe\", \"Spinach\", \"Mushrooms\", \"Feta cheese\", \"White sauce\"], \"name\": \"Florentine Crepe\", \"price\": \"8.99\", \"restaurant\": \"CaFe\", \"timeclose\": \"10pm\", \"timeopen\": \"7:30am\", \"type\": \"Vegetarian\"}, {\"calories\": 650.0, \"category\": \"Bowls\", \"ingredients\": [\"Bulgogi beef\", \"Steamed rice\", \"Kimchi\", \"Sesame seeds\", \"Green onions\"], \"name\": \"Bulgogi Bowl\", \"price\": \"$9.50\", \"restaurant\": \"Ginger and Soy\", \"timeclose\": \"9pm\", \"timeopen\": \"11am\", \"type\": \"Non-Vegetarian\"}, {\"calories\": 400.0, \"category\": \"Main Course\", \"description\": \"Indian crepe filled with spiced chicken and herbs.\", \"ingredients\": [\"Rice\", \"Urad dal\", \"Chicken\", \"Garam masala\", \"Cilantro\"], \"name\": \"Chicken Dosai\", \"price\": \"11.49\", \"restaurant\": \"Tandoor\", \"timeclose\": \"9pm\", \"timeopen\": \"11am\", \"type\": \"Non-Vegetarian\"}, {\"calories\": 310.0, \"category\": \"Bagels\", \"description\": \"A warmly spiced bagel swirled with cinnamon and studded with juicy raisins.\", \"ingredients\": [\"Wheat flour\", \"Cinnamon\", \"Raisins\", \"Yeast\"], \"name\": \"Cinnamon Swirl and Raisin Bagel\", \"price\": \"2.49\", \"restaurant\": \"Panera\", \"timeclose\": \"9pm\", \"timeopen\": \"7am\", \"type\": \"Vegetarian\"}, {\"calories\": 530.0, \"category\": \"Hot Breakfast\", \"description\": \"Savor the flavors of sausage, scrambled egg, and cheese on our freshly baked ciabatta.\", \"ingredients\": [\"Sausage\", \"Scrambled egg\", \"Cheese\", \"Ciabatta\"], \"name\": \"Sausage Scr Egg and Cheese on Ciabatta\", \"price\": \"6.49\", \"restaurant\": \"Panera\", \"timeclose\": \"9pm\", \"timeopen\": \"7am\", \"type\": \"Non-Vegetarian\"}, {\"calories\": 50.0, \"category\": \"Snack Boxes and Sides\", \"description\": \"Fresh strawberries in their natural juice.\", \"ingredients\": [\"Strawberries\"], \"name\": \"Strawberry Fruit Cup\", \"price\": \"2.99\", \"restaurant\": \"CaFe\", \"timeclose\": \"10pm\", \"timeopen\": \"7:30am\", \"type\": \"Vegan\"}]\n",
      "\n",
      "    \n",
      "[{\"calories\": 50.0, \"category\": \"Snack Boxes and Sides\", \"description\": \"Fresh strawberries in their natural juice.\", \"ingredients\": [\"Strawberries\"], \"name\": \"Strawberry Fruit Cup\", \"price\": \"2.99\", \"restaurant\": \"CaFe\", \"timeclose\": \"10pm\", \"timeopen\": \"7:30am\", \"type\": \"Vegan\"}, {\"calories\": 100.0, \"category\": \"Snack Boxes and Sides\", \"description\": \"A mix of seasonal fresh fruits for a refreshing snack.\", \"ingredients\": [\"Melon\", \"Pineapple\", \"Grapes\", \"Berries\"], \"name\": \"Fruit Cup\", \"price\": \"2.99\", \"restaurant\": \"CaFe\", \"timeclose\": \"10pm\", \"timeopen\": \"7:30am\", \"type\": \"Vegan\"}, {\"calories\": 120.0, \"category\": \"Sides\", \"description\": \"A delightful mix of the season's best fruits, freshly prepared.\", \"ingredients\": [\"Melon\", \"Grapes\", \"Pineapple\", \"Berries\"], \"name\": \"Seasonal Fruit Cup\", \"price\": \"3.99\", \"restaurant\": \"Panera\", \"timeclose\": \"9pm\", \"timeopen\": \"7am\", \"type\": \"Vegan\"}, {\"calories\": 120.0, \"category\": \"Cold Breakfast\", \"description\": \"A refreshing mix of seasonal fruits.\", \"ingredients\": [\"Strawberries\", \"Blueberries\", \"Apples\", \"Grapes\"], \"name\": \"Seasonal Fruit Cup\", \"price\": \"4.59\", \"restaurant\": \"Panera\", \"timeclose\": \"9pm\", \"timeopen\": \"7am\", \"type\": \"Vegan\"}, {\"calories\": 200.0, \"category\": \"Appetizers\", \"ingredients\": [\"Edamame\", \"Salt\"], \"name\": \"Edamame\", \"price\": \"$16\", \"restaurant\": \"Ginger and Soy\", \"timeclose\": \"9pm\", \"timeopen\": \"11am\", \"type\": \"Vegan\"}, {\"calories\": 200.0, \"category\": \"Snack Boxes and Sides\", \"description\": \"Crispy and lightly salted pita chips perfect for snacking.\", \"ingredients\": [\"Pita bread\", \"Olive oil\", \"Sea salt\"], \"name\": \"Pita Crisps\", \"price\": \"1.99\", \"restaurant\": \"CaFe\", \"timeclose\": \"10pm\", \"timeopen\": \"7:30am\", \"type\": \"Vegan\"}, {\"calories\": 270.0, \"category\": \"Bagels\", \"description\": \"A simple, soft, and chewy bagel, perfect for any spread.\", \"ingredients\": [\"Wheat flour\", \"Yeast\", \"Salt\", \"Water\"], \"name\": \"Plain Bagel\", \"price\": \"2.29\", \"restaurant\": \"Panera\", \"timeclose\": \"9pm\", \"timeopen\": \"7am\", \"type\": \"Vegan\"}, {\"calories\": 280.0, \"category\": \"Pastries All Day\", \"description\": \"Classic cookie loaded with chocolate chips and a hint of sea salt.\", \"ingredients\": [\"Flour\", \"Brown sugar\", \"Chocolate chips\", \"Butter\", \"Eggs\", \"Sea salt\"], \"name\": \"Chocolate Chip Cookie\", \"price\": \"1.99\", \"restaurant\": \"CaFe\", \"timeclose\": \"10pm\", \"timeopen\": \"7:30am\", \"type\": \"Vegetarian\"}, {\"calories\": 290.0, \"category\": \"Bread\", \"description\": \"Leavened bread topped with garlic and cilantro, baked in a tandoor.\", \"ingredients\": [\"Flour\", \"Garlic\", \"Cilantro\", \"Yeast\", \"Water\"], \"name\": \"Garlic Naan\", \"price\": \"3.79\", \"restaurant\": \"Tandoor\", \"timeclose\": \"9pm\", \"timeopen\": \"11am\", \"type\": \"Vegan\"}, {\"calories\": 300.0, \"category\": \"Main Course\", \"description\": \"A simple, savory Indian crepe made from rice and lentil batter.\", \"ingredients\": [\"Rice\", \"Urad dal\", \"Water\", \"Salt\"], \"name\": \"Sada Dosai\", \"price\": \"8.59\", \"restaurant\": \"Tandoor\", \"timeclose\": \"9pm\", \"timeopen\": \"11am\", \"type\": \"Vegan\"}, {\"calories\": 310.0, \"category\": \"Sweets\", \"description\": \"A soft and chewy mini-muffin filled with chocolate chips.\", \"ingredients\": [\"Flour\", \"Chocolate chips\", \"Butter\", \"Sugar\", \"Eggs\"], \"name\": \"Chocolate Chip Muffie\", \"price\": \"2.19\", \"restaurant\": \"Panera\", \"timeclose\": \"9pm\", \"timeopen\": \"7am\", \"type\": \"Vegetarian\"}, {\"calories\": 320.0, \"category\": \"Bagels\", \"description\": \"A deliciously sweet bagel filled with chocolate chips, perfect for a treat.\", \"ingredients\": [\"Wheat flour\", \"Chocolate chips\", \"Brown sugar\", \"Yeast\"], \"name\": \"Chocolate Chip Bagel\", \"price\": \"2.49\", \"restaurant\": \"Panera\", \"timeclose\": \"9pm\", \"timeopen\": \"7am\", \"type\": \"Vegetarian\"}, {\"calories\": 320.0, \"category\": \"Desserts\", \"description\": \"Soft, spongy, and sweet milk-solid balls soaked in rose-scented syrup.\", \"ingredients\": [\"Milk solids\", \"Flour\", \"Sugar\", \"Rose water\", \"Cardamom\"], \"name\": \"Gulab Jamun\", \"price\": \"4.25\", \"restaurant\": \"Tandoor\", \"timeclose\": \"9pm\", \"timeopen\": \"11am\", \"type\": \"Vegetarian\"}]\n"
     ]
    }
   ],
   "source": [
    "main()"
   ]
  }
 ],
 "metadata": {
  "kernelspec": {
   "display_name": "env",
   "language": "python",
   "name": "python3"
  },
  "language_info": {
   "codemirror_mode": {
    "name": "ipython",
    "version": 3
   },
   "file_extension": ".py",
   "mimetype": "text/x-python",
   "name": "python",
   "nbconvert_exporter": "python",
   "pygments_lexer": "ipython3",
   "version": "3.9.6"
  }
 },
 "nbformat": 4,
 "nbformat_minor": 2
}
